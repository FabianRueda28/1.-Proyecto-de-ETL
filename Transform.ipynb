{
 "cells": [
  {
   "cell_type": "code",
   "execution_count": 1,
   "metadata": {},
   "outputs": [],
   "source": [
    "import pandas as pd \n",
    "import numpy as np\n",
    "import openpyxl as opx "
   ]
  },
  {
   "cell_type": "markdown",
   "metadata": {},
   "source": [
    "# DE XLS A CSV"
   ]
  },
  {
   "cell_type": "code",
   "execution_count": null,
   "metadata": {},
   "outputs": [],
   "source": [
    "#convertir un archivo xlsx a csv\n",
    "dataset_4 = pd.read_excel(r'C:\\Users\\USER\\Desktop\\Proyects to Henry\\PI01_DATA_ENGINEERING\\Datasets\\precios_semana_4.xlsx')\n",
    "dataset_4.to_csv(r'C:\\Users\\USER\\Desktop\\Proyects to Henry\\PI01_DATA_ENGINEERING\\Datasets\\precios_semana_4.csv', index = False)\n",
    "dataset_4"
   ]
  },
  {
   "cell_type": "code",
   "execution_count": null,
   "metadata": {},
   "outputs": [],
   "source": [
    "dataset_5 = pd.read_excel(r'C:\\Users\\USER\\Desktop\\Proyects to Henry\\PI01_DATA_ENGINEERING\\Datasets\\precios_semana_5.xlsx')\n",
    "dataset_5.to_csv(r'C:\\Users\\USER\\Desktop\\Proyects to Henry\\PI01_DATA_ENGINEERING\\Datasets\\precios_semana_5.csv', index = False)\n",
    "dataset_5"
   ]
  },
  {
   "cell_type": "markdown",
   "metadata": {},
   "source": [
    "# De parquet a csv"
   ]
  },
  {
   "cell_type": "code",
   "execution_count": null,
   "metadata": {},
   "outputs": [],
   "source": [
    "#convertir un archivo parquet a csv\n",
    "producto = pd.read_parquet(r'C:\\Users\\USER\\Desktop\\Proyects to Henry\\PI01_DATA_ENGINEERING\\Datasets\\producto.parquet')\n",
    "producto.to_csv(r'C:\\Users\\USER\\Desktop\\Proyects to Henry\\PI01_DATA_ENGINEERING\\Datasets\\producto.csv', index = False)\n",
    "producto"
   ]
  },
  {
   "cell_type": "markdown",
   "metadata": {},
   "source": [
    "# De Json a Csv"
   ]
  },
  {
   "cell_type": "code",
   "execution_count": null,
   "metadata": {},
   "outputs": [],
   "source": [
    "#de json a csv\n",
    "dataset_2 = pd.read_json(r'C:\\Users\\USER\\Desktop\\Proyects to Henry\\PI01_DATA_ENGINEERING\\Datasets\\precios_semana_2.json')\n",
    "dataset_2.to_csv(r'C:\\Users\\USER\\Desktop\\Proyects to Henry\\PI01_DATA_ENGINEERING\\Datasets\\precios_semana_2.csv', index = False)\n",
    "dataset_4"
   ]
  },
  {
   "cell_type": "markdown",
   "metadata": {},
   "source": [
    "# De Txt a Csv"
   ]
  },
  {
   "cell_type": "code",
   "execution_count": null,
   "metadata": {},
   "outputs": [],
   "source": [
    "# de txt a csv\n",
    "dataset_3 = pd.read_csv(r'C:\\Users\\USER\\Desktop\\Proyects to Henry\\PI01_DATA_ENGINEERING\\Datasets\\precios_semana_3.txt')\n",
    "dataset_3.to_csv(r'C:\\Users\\USER\\Desktop\\Proyects to Henry\\PI01_DATA_ENGINEERING\\Datasets\\precios_semana_3_txt.csv', index = False)\n",
    "dataset_3"
   ]
  },
  {
   "cell_type": "markdown",
   "metadata": {},
   "source": [
    "# Transformación de los Datos\n"
   ]
  },
  {
   "cell_type": "code",
   "execution_count": 7,
   "metadata": {},
   "outputs": [],
   "source": [
    "dataset_1 = pd.read_csv(r'C:\\Users\\USER\\Desktop\\Proyects to Henry\\PI01_DATA_ENGINEERING\\Datasets\\precios_semana_1.csv')\n",
    "dataset_2 = pd.read_csv(r'C:\\Users\\USER\\Desktop\\Proyects to Henry\\PI01_DATA_ENGINEERING\\Datasets\\precios_semana_2.csv')\n",
    "dataset_3 = pd.read_csv(r'C:\\Users\\USER\\Desktop\\Proyects to Henry\\PI01_DATA_ENGINEERING\\Datasets\\precios_semana_3_txt.csv')\n",
    "dataset_4 = pd.read_csv(r'C:\\Users\\USER\\Desktop\\Proyects to Henry\\PI01_DATA_ENGINEERING\\Datasets\\precios_semana_4.csv')\n",
    "dataset_5 = pd.read_csv(r'C:\\Users\\USER\\Desktop\\Proyects to Henry\\PI01_DATA_ENGINEERING\\Datasets\\precios_semana_5.csv')\n",
    "producto = pd.read_csv(r'C:\\Users\\USER\\Desktop\\Proyects to Henry\\PI01_DATA_ENGINEERING\\Datasets\\producto.csv')\n",
    "sucursal = pd.read_csv(r'C:\\Users\\USER\\Desktop\\Proyects to Henry\\PI01_DATA_ENGINEERING\\Datasets\\sucursal.csv')"
   ]
  },
  {
   "cell_type": "code",
   "execution_count": 8,
   "metadata": {},
   "outputs": [],
   "source": [
    "#eliminar filas vacias del dataset 1\n",
    "dataset_1.isnull().sum()\n",
    "dataset_1.dropna(inplace=True)\n",
    "dataset_1.isnull().sum() \n",
    "\n",
    "#guardar cambios en el csv\n",
    "dataset_1.to_csv(r'C:\\Users\\USER\\Desktop\\Proyects to Henry\\PI01_DATA_ENGINEERING\\Datasets\\precios_semana_1.csv', index = False)\n"
   ]
  },
  {
   "cell_type": "code",
   "execution_count": 9,
   "metadata": {},
   "outputs": [],
   "source": [
    "#cambiamos el orden de las columnas en el dataset 4 \n",
    "dataset_4 = dataset_4.reindex(columns=['precio', 'producto_id', 'sucursal_id'])\n",
    "dataset_4.head(10) \n",
    "\n",
    "#guardar cambios en el csv\n",
    "dataset_4.to_csv(r'C:\\Users\\USER\\Desktop\\Proyects to Henry\\PI01_DATA_ENGINEERING\\Datasets\\precios_semana_4.csv', index = False)"
   ]
  },
  {
   "cell_type": "code",
   "execution_count": 10,
   "metadata": {},
   "outputs": [],
   "source": [
    "#eliminar 00:00:00 de la columna sucursal_id del dataset 5 \n",
    "dataset_5['sucursal_id'] = dataset_5['sucursal_id'].str.replace('00:00:00', '')\n",
    "dataset_5.head(10)\n",
    "\n",
    "#guardar cambios en el csv\n",
    "dataset_5.to_csv(r'C:\\Users\\USER\\Desktop\\Proyects to Henry\\PI01_DATA_ENGINEERING\\Datasets\\precios_semana_5.csv', index = False)"
   ]
  },
  {
   "cell_type": "code",
   "execution_count": 11,
   "metadata": {},
   "outputs": [],
   "source": [
    "#cambianos el orden de las columnas en el dataset 5\n",
    "dataset_5 = dataset_5.reindex(columns=['precio', 'producto_id', 'sucursal_id'])\n",
    "dataset_5.head(10)  \n",
    "\n",
    "#guardar cambios en el csv\n",
    "dataset_5.to_csv(r'C:\\Users\\USER\\Desktop\\Proyects to Henry\\PI01_DATA_ENGINEERING\\Datasets\\precios_semana_5.csv', index = False)"
   ]
  },
  {
   "cell_type": "code",
   "execution_count": 12,
   "metadata": {},
   "outputs": [],
   "source": [
    "#convertimos a str toda la col\n",
    "dataset_5['sucursal_id']=dataset_5['sucursal_id'].astype(str)\n",
    "\n",
    "#creamos una funcion para eliminar todos los datos horarios, y ordenar bien los datos de cadena\n",
    "#colocando el los codigos en el orden correcto, que se desordenaron al cambiarlo a fecha\n",
    "# para luego continuar con el proceso de transformacion\n",
    "def norm_time (x):\n",
    "    if ' ' in x:\n",
    "        x = x.split(' ')[0]\n",
    "        a = x.split('-')[0]\n",
    "        b = x.split('-')[1]\n",
    "        c = x.split('-')[2]\n",
    "        x = c + '-' + b + '-' + a\n",
    "    return x\n",
    "\n",
    "dataset_5['sucursal_id']=dataset_5['sucursal_id'].apply(norm_time)\n"
   ]
  },
  {
   "cell_type": "code",
   "execution_count": 13,
   "metadata": {},
   "outputs": [
    {
     "data": {
      "text/html": [
       "<div>\n",
       "<style scoped>\n",
       "    .dataframe tbody tr th:only-of-type {\n",
       "        vertical-align: middle;\n",
       "    }\n",
       "\n",
       "    .dataframe tbody tr th {\n",
       "        vertical-align: top;\n",
       "    }\n",
       "\n",
       "    .dataframe thead th {\n",
       "        text-align: right;\n",
       "    }\n",
       "</style>\n",
       "<table border=\"1\" class=\"dataframe\">\n",
       "  <thead>\n",
       "    <tr style=\"text-align: right;\">\n",
       "      <th></th>\n",
       "      <th>precio</th>\n",
       "      <th>producto_id</th>\n",
       "      <th>sucursal_id</th>\n",
       "    </tr>\n",
       "  </thead>\n",
       "  <tbody>\n",
       "    <tr>\n",
       "      <th>0</th>\n",
       "      <td>29.90</td>\n",
       "      <td>2288</td>\n",
       "      <td>2-1-184</td>\n",
       "    </tr>\n",
       "    <tr>\n",
       "      <th>1</th>\n",
       "      <td>39.90</td>\n",
       "      <td>2288</td>\n",
       "      <td>2-1-206</td>\n",
       "    </tr>\n",
       "    <tr>\n",
       "      <th>2</th>\n",
       "      <td>499.99</td>\n",
       "      <td>205870</td>\n",
       "      <td>9-1-430</td>\n",
       "    </tr>\n",
       "    <tr>\n",
       "      <th>3</th>\n",
       "      <td>539.99</td>\n",
       "      <td>205870</td>\n",
       "      <td>9-2-107</td>\n",
       "    </tr>\n",
       "    <tr>\n",
       "      <th>4</th>\n",
       "      <td>539.99</td>\n",
       "      <td>205870</td>\n",
       "      <td>09-03-5218</td>\n",
       "    </tr>\n",
       "  </tbody>\n",
       "</table>\n",
       "</div>"
      ],
      "text/plain": [
       "   precio producto_id sucursal_id\n",
       "0   29.90        2288     2-1-184\n",
       "1   39.90        2288     2-1-206\n",
       "2  499.99      205870     9-1-430\n",
       "3  539.99      205870     9-2-107\n",
       "4  539.99      205870  09-03-5218"
      ]
     },
     "execution_count": 13,
     "metadata": {},
     "output_type": "execute_result"
    }
   ],
   "source": [
    "dataset_5['sucursal_id'] = dataset_5['sucursal_id'].str.replace('5218-03-09', '09-03-5218')\n",
    "dataset_5.head()"
   ]
  },
  {
   "cell_type": "code",
   "execution_count": 14,
   "metadata": {},
   "outputs": [],
   "source": [
    "#guardar cambios en el csv\n",
    "dataset_5.to_csv(r'C:\\Users\\USER\\Desktop\\Proyects to Henry\\PI01_DATA_ENGINEERING\\Datasets\\precios_semana_5.csv', index = False)"
   ]
  },
  {
   "cell_type": "code",
   "execution_count": 23,
   "metadata": {},
   "outputs": [],
   "source": [
    "dataset_5.isnull().sum()\n",
    "dataset_5.fillna(0, inplace=True)\n",
    "dataset_5.isnull().sum()\n",
    "\n",
    "#guardar cambios en el csv\n",
    "dataset_5.to_csv(r'C:\\Users\\USER\\Desktop\\Proyects to Henry\\PI01_DATA_ENGINEERING\\Datasets\\precios_semana_5.csv', index = False)"
   ]
  },
  {
   "cell_type": "code",
   "execution_count": 15,
   "metadata": {},
   "outputs": [
    {
     "data": {
      "text/plain": [
       "precio         0\n",
       "producto_id    0\n",
       "sucursal_id    0\n",
       "dtype: int64"
      ]
     },
     "execution_count": 15,
     "metadata": {},
     "output_type": "execute_result"
    }
   ],
   "source": [
    "#reemplazar los valores nulos por 0 en el dataset 3\n",
    "dataset_3.isnull().sum()\n",
    "dataset_3.fillna(0, inplace=True)\n",
    "dataset_3.isnull().sum() "
   ]
  },
  {
   "cell_type": "code",
   "execution_count": 16,
   "metadata": {},
   "outputs": [],
   "source": [
    "#guardar cambios en el csv\n",
    "dataset_3.to_csv(r'C:\\Users\\USER\\Desktop\\Proyects to Henry\\PI01_DATA_ENGINEERING\\Datasets\\precios_semana_3_txt.csv', index = False)"
   ]
  },
  {
   "cell_type": "code",
   "execution_count": 17,
   "metadata": {},
   "outputs": [],
   "source": [
    "dataset_2.isnull().sum()\n",
    "dataset_2.fillna(0, inplace=True)\n",
    "dataset_2.isnull().sum() \n",
    "\n",
    "#guardar cambios en el csv\n",
    "dataset_2.to_csv(r'C:\\Users\\USER\\Desktop\\Proyects to Henry\\PI01_DATA_ENGINEERING\\Datasets\\precios_semana_2.csv', index = False)"
   ]
  },
  {
   "cell_type": "code",
   "execution_count": 20,
   "metadata": {},
   "outputs": [],
   "source": [
    "dataset_4.isnull().sum()\n",
    "dataset_4.fillna(0, inplace=True)\n",
    "dataset_4.isnull().sum()\n",
    "\n",
    "#guardar cambios en el csv\n",
    "dataset_4.to_csv(r'C:\\Users\\USER\\Desktop\\Proyects to Henry\\PI01_DATA_ENGINEERING\\Datasets\\precios_semana_4.csv', index = False)"
   ]
  }
 ],
 "metadata": {
  "kernelspec": {
   "display_name": "Python 3.10.5 64-bit",
   "language": "python",
   "name": "python3"
  },
  "language_info": {
   "codemirror_mode": {
    "name": "ipython",
    "version": 3
   },
   "file_extension": ".py",
   "mimetype": "text/x-python",
   "name": "python",
   "nbconvert_exporter": "python",
   "pygments_lexer": "ipython3",
   "version": "3.10.5"
  },
  "orig_nbformat": 4,
  "vscode": {
   "interpreter": {
    "hash": "df95319d8ce4e1d89f5365ae10992bc1f65da593082b1d264e8f529830ec2f02"
   }
  }
 },
 "nbformat": 4,
 "nbformat_minor": 2
}
